{
 "cells": [
  {
   "cell_type": "code",
   "execution_count": 1,
   "id": "1a162734",
   "metadata": {},
   "outputs": [],
   "source": [
    "import numpy as np\n",
    "from keras.utils import np_utils\n",
    "import sys"
   ]
  },
  {
   "cell_type": "code",
   "execution_count": 2,
   "id": "3a02b892",
   "metadata": {},
   "outputs": [],
   "source": [
    "wonderlandfile = open('wonderland.txt', encoding = 'utf8')\n",
    "rawtext = wonderlandfile.read()"
   ]
  },
  {
   "cell_type": "code",
   "execution_count": 3,
   "id": "e37f6c7f",
   "metadata": {},
   "outputs": [],
   "source": [
    "rawtext = rawtext.lower()"
   ]
  },
  {
   "cell_type": "code",
   "execution_count": 4,
   "id": "227d542c",
   "metadata": {},
   "outputs": [],
   "source": [
    "characters = sorted(list(set(rawtext)))"
   ]
  },
  {
   "cell_type": "code",
   "execution_count": 5,
   "id": "e23d0794",
   "metadata": {},
   "outputs": [
    {
     "name": "stdout",
     "output_type": "stream",
     "text": [
      "['\\n', ' ', '!', '#', '$', '%', '(', ')', '*', ',', '-', '.', '/', '0', '1', '2', '3', '4', '5', '6', '7', '8', '9', ':', ';', '?', '@', '[', ']', '_', 'a', 'b', 'c', 'd', 'e', 'f', 'g', 'h', 'i', 'j', 'k', 'l', 'm', 'n', 'o', 'p', 'q', 'r', 's', 't', 'u', 'v', 'w', 'x', 'y', 'z', '‘', '’', '“', '”', '\\ufeff']\n"
     ]
    }
   ],
   "source": [
    "print(characters)"
   ]
  },
  {
   "cell_type": "code",
   "execution_count": 6,
   "id": "5337db74",
   "metadata": {},
   "outputs": [],
   "source": [
    "bad_characters = ['#','*','@','_','\\ufeff']"
   ]
  },
  {
   "cell_type": "code",
   "execution_count": 7,
   "id": "0bd22b79",
   "metadata": {},
   "outputs": [
    {
     "name": "stdout",
     "output_type": "stream",
     "text": [
      "['\\n', ' ', '!', '$', '%', '(', ')', ',', '-', '.', '/', '0', '1', '2', '3', '4', '5', '6', '7', '8', '9', ':', ';', '?', '[', ']', 'a', 'b', 'c', 'd', 'e', 'f', 'g', 'h', 'i', 'j', 'k', 'l', 'm', 'n', 'o', 'p', 'q', 'r', 's', 't', 'u', 'v', 'w', 'x', 'y', 'z', '‘', '’', '“', '”']\n"
     ]
    }
   ],
   "source": [
    "for i in range(len(bad_characters)):\n",
    "    rawtext = rawtext.replace(bad_characters[i],\"\")\n",
    "    \n",
    "characters = sorted(list(set(rawtext)))\n",
    "print(characters)"
   ]
  },
  {
   "cell_type": "code",
   "execution_count": 8,
   "id": "0d2e0802",
   "metadata": {},
   "outputs": [
    {
     "name": "stdout",
     "output_type": "stream",
     "text": [
      "Text Length : 163721\n",
      "No of characters : 56\n"
     ]
    }
   ],
   "source": [
    "textlen = len(rawtext)\n",
    "charslen = len(characters)\n",
    "vocabulary = charslen\n",
    "print(\"Text Length : \" + str(textlen))\n",
    "print(\"No of characters : \" + str(charslen))"
   ]
  },
  {
   "cell_type": "code",
   "execution_count": 9,
   "id": "666d6ce2",
   "metadata": {},
   "outputs": [],
   "source": [
    "SEQ_LENGTH = 100\n",
    "char_to_int = dict((c,i)for i ,c in enumerate(characters))\n",
    "data_X = []\n",
    "data_Y = []\n",
    "\n",
    "for i in range(len(rawtext) - SEQ_LENGTH):\n",
    "    X_test = rawtext[i: i + SEQ_LENGTH]\n",
    "    X = [char_to_int[char] for char in X_test]\n",
    "    data_X.append(X)\n",
    "    Y = rawtext[i + SEQ_LENGTH]\n",
    "    data_Y.append(char_to_int[Y])"
   ]
  },
  {
   "cell_type": "code",
   "execution_count": 10,
   "id": "12f54abd",
   "metadata": {},
   "outputs": [
    {
     "name": "stdout",
     "output_type": "stream",
     "text": [
      "(163621, 100, 1)\n",
      "(163621, 56)\n"
     ]
    }
   ],
   "source": [
    "length = len(data_X)\n",
    "data_X = np.array(data_X)\n",
    "data_X = np.reshape(data_X, (data_X.shape[0], data_X.shape[1], 1))\n",
    "data_X = data_X/float(vocabulary)\n",
    "\n",
    "data_Y = np.array(data_Y)\n",
    "data_Y = np_utils.to_categorical(data_Y)\n",
    "print(data_X.shape)\n",
    "print(data_Y.shape)"
   ]
  },
  {
   "cell_type": "code",
   "execution_count": 11,
   "id": "03f48bb1",
   "metadata": {},
   "outputs": [],
   "source": [
    "import keras\n",
    "from keras.models import Sequential\n",
    "from keras.layers import Dense, LSTM, Dropout, Activation\n",
    "from keras.optimizers import RMSprop, Adam\n",
    "from keras.callbacks import ModelCheckpoint"
   ]
  },
  {
   "cell_type": "code",
   "execution_count": 12,
   "id": "9e886b48",
   "metadata": {},
   "outputs": [],
   "source": [
    "model= Sequential()"
   ]
  },
  {
   "cell_type": "code",
   "execution_count": 13,
   "id": "3bf4f9ea",
   "metadata": {},
   "outputs": [],
   "source": [
    "model.add(LSTM(256, input_shape = (SEQ_LENGTH, 1), return_sequences = True))\n",
    "model.add(Dropout(0.2))\n",
    "model.add(LSTM(256))\n",
    "model.add(Dropout(0.2))"
   ]
  },
  {
   "cell_type": "code",
   "execution_count": 14,
   "id": "7b6d287f",
   "metadata": {},
   "outputs": [],
   "source": [
    "model.add(Dense(vocabulary, activation = 'softmax'))"
   ]
  },
  {
   "cell_type": "code",
   "execution_count": 15,
   "id": "4988d692",
   "metadata": {},
   "outputs": [],
   "source": [
    "model.compile(loss = 'categorical_crossentropy' , optimizer = 'adam')"
   ]
  },
  {
   "cell_type": "code",
   "execution_count": 16,
   "id": "bbd9bddb",
   "metadata": {},
   "outputs": [
    {
     "name": "stdout",
     "output_type": "stream",
     "text": [
      "Epoch 1/10\n",
      "1279/1279 [==============================] - ETA: 0s - loss: 2.9257\n",
      "Epoch 00001: loss improved from inf to 2.92565, saving model to text_generation.h5\n",
      "1279/1279 [==============================] - 1479s 1s/step - loss: 2.9257\n",
      "Epoch 2/10\n",
      "1279/1279 [==============================] - ETA: 0s - loss: 2.6250\n",
      "Epoch 00002: loss improved from 2.92565 to 2.62499, saving model to text_generation.h5\n",
      "1279/1279 [==============================] - 1418s 1s/step - loss: 2.6250\n",
      "Epoch 3/10\n",
      "1279/1279 [==============================] - ETA: 0s - loss: 2.4379\n",
      "Epoch 00003: loss improved from 2.62499 to 2.43792, saving model to text_generation.h5\n",
      "1279/1279 [==============================] - 1419s 1s/step - loss: 2.4379\n",
      "Epoch 4/10\n",
      "1279/1279 [==============================] - ETA: 0s - loss: 2.2925\n",
      "Epoch 00004: loss improved from 2.43792 to 2.29248, saving model to text_generation.h5\n",
      "1279/1279 [==============================] - 1424s 1s/step - loss: 2.2925\n",
      "Epoch 5/10\n",
      "1279/1279 [==============================] - ETA: 0s - loss: 2.1800\n",
      "Epoch 00005: loss improved from 2.29248 to 2.18005, saving model to text_generation.h5\n",
      "1279/1279 [==============================] - 1427s 1s/step - loss: 2.1800\n",
      "Epoch 6/10\n",
      "1279/1279 [==============================] - ETA: 0s - loss: 2.0950\n",
      "Epoch 00006: loss improved from 2.18005 to 2.09499, saving model to text_generation.h5\n",
      "1279/1279 [==============================] - 1429s 1s/step - loss: 2.0950\n",
      "Epoch 7/10\n",
      "1279/1279 [==============================] - ETA: 0s - loss: 2.0235\n",
      "Epoch 00007: loss improved from 2.09499 to 2.02350, saving model to text_generation.h5\n",
      "1279/1279 [==============================] - 1427s 1s/step - loss: 2.0235\n",
      "Epoch 8/10\n",
      "1279/1279 [==============================] - ETA: 0s - loss: 1.9659\n",
      "Epoch 00008: loss improved from 2.02350 to 1.96589, saving model to text_generation.h5\n",
      "1279/1279 [==============================] - 1427s 1s/step - loss: 1.9659\n",
      "Epoch 9/10\n",
      "1279/1279 [==============================] - ETA: 0s - loss: 1.9082\n",
      "Epoch 00009: loss improved from 1.96589 to 1.90818, saving model to text_generation.h5\n",
      "1279/1279 [==============================] - 1428s 1s/step - loss: 1.9082\n",
      "Epoch 10/10\n",
      "1279/1279 [==============================] - ETA: 0s - loss: 1.8664\n",
      "Epoch 00010: loss improved from 1.90818 to 1.86635, saving model to text_generation.h5\n",
      "1279/1279 [==============================] - 1428s 1s/step - loss: 1.8664\n"
     ]
    }
   ],
   "source": [
    "filepath=\"text_generation.h5\"\n",
    "checkpoint = ModelCheckpoint(filepath, monitor='loss', verbose=1, save_best_only=True, mode='min')\n",
    "callbacks_list = [checkpoint]\n",
    "\n",
    "\n",
    "\n",
    "history = model.fit(data_X, data_Y, epochs =10 , batch_size = 128, callbacks = callbacks_list)"
   ]
  },
  {
   "cell_type": "code",
   "execution_count": 94,
   "id": "3574e00f",
   "metadata": {},
   "outputs": [],
   "source": [
    "filename = 'text_generation.h5'\n",
    "model.load_weights(filename)\n",
    "model.compile(loss = 'categorical_crossentropy' , optimizer = 'adam')"
   ]
  },
  {
   "cell_type": "code",
   "execution_count": null,
   "id": "7a06608e",
   "metadata": {},
   "outputs": [],
   "source": []
  },
  {
   "cell_type": "code",
   "execution_count": 140,
   "id": "7266c4c9",
   "metadata": {},
   "outputs": [],
   "source": [
    "initial_text = 'max verstappen was quick among the competitiors and won the dutch grand pri for first time in career'\n",
    "initial_text = [char_to_int[c] for c in initial_text]\n"
   ]
  },
  {
   "cell_type": "code",
   "execution_count": 141,
   "id": "3329a6a0",
   "metadata": {},
   "outputs": [],
   "source": [
    "test_text = initial_text"
   ]
  },
  {
   "cell_type": "code",
   "execution_count": 142,
   "id": "1eb8baf5",
   "metadata": {},
   "outputs": [],
   "source": [
    "generated_text = []"
   ]
  },
  {
   "cell_type": "code",
   "execution_count": 143,
   "id": "6ad6eecb",
   "metadata": {},
   "outputs": [],
   "source": [
    "int_to_char = dict((i, c) for i, c in enumerate(characters))"
   ]
  },
  {
   "cell_type": "code",
   "execution_count": 144,
   "id": "cfaf9b00",
   "metadata": {},
   "outputs": [],
   "source": [
    "for i in range(100):\n",
    "    x = np.reshape(test_text, (1, SEQ_LENGTH, 1))\n",
    "    x = x / float(vocabulary)\n",
    "    prediction = model.predict(x)\n",
    "    index = np.argmax(prediction)\n",
    "    result = int_to_char[index]\n",
    "    generated_text.append(result)\n",
    "    test_text.append(index)\n",
    "    test_text = test_text[1:]\n",
    "output = ''.join(generated_text)\n"
   ]
  },
  {
   "cell_type": "code",
   "execution_count": 145,
   "id": "72a1dc74",
   "metadata": {},
   "outputs": [
    {
     "data": {
      "text/plain": [
       "'anly and the words was the words she was she was she was she was she was she was she was she was she'"
      ]
     },
     "execution_count": 145,
     "metadata": {},
     "output_type": "execute_result"
    }
   ],
   "source": [
    "output"
   ]
  },
  {
   "cell_type": "code",
   "execution_count": null,
   "id": "8630d659",
   "metadata": {},
   "outputs": [],
   "source": []
  }
 ],
 "metadata": {
  "kernelspec": {
   "display_name": "Python 3",
   "language": "python",
   "name": "python3"
  },
  "language_info": {
   "codemirror_mode": {
    "name": "ipython",
    "version": 3
   },
   "file_extension": ".py",
   "mimetype": "text/x-python",
   "name": "python",
   "nbconvert_exporter": "python",
   "pygments_lexer": "ipython3",
   "version": "3.8.8"
  }
 },
 "nbformat": 4,
 "nbformat_minor": 5
}
